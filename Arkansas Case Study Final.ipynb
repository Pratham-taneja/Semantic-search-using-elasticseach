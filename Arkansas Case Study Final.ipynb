{
 "cells": [
  {
   "cell_type": "markdown",
   "id": "0993e072",
   "metadata": {},
   "source": [
    "### Define Import"
   ]
  },
  {
   "cell_type": "code",
   "execution_count": 49,
   "id": "e01e1c2c",
   "metadata": {},
   "outputs": [],
   "source": [
    "\n",
    "try:\n",
    "    import json\n",
    "    import os\n",
    "    import uuid\n",
    "\n",
    "    import pandas as pd\n",
    "    import numpy as np\n",
    "\n",
    "    import elasticsearch\n",
    "    from elasticsearch import Elasticsearch\n",
    "    from elasticsearch import helpers\n",
    "    from sentence_transformers import SentenceTransformer, util\n",
    "    from tqdm import tqdm\n",
    "    import elastic_test\n",
    "except Exception as e:\n",
    "    print(\"Some Modules are Missing :{}\".format(e))"
   ]
  },
  {
   "cell_type": "markdown",
   "id": "ebca8c62",
   "metadata": {},
   "source": [
    "### Creating helper class"
   ]
  },
  {
   "cell_type": "code",
   "execution_count": 50,
   "id": "ec572f5c",
   "metadata": {},
   "outputs": [],
   "source": [
    "# this code will laod in data from csv format to an DataFrame in chunks 3000\n",
    "# as the data we push in the elasticsearch index takes a lot of time for such big\n",
    "# dataset with over 59k datapoints.\n",
    "class Reader(object):\n",
    "\n",
    "    def __init__(self, file_name):\n",
    "        self.file_name = file_name\n",
    "\n",
    "    def run(self):\n",
    "\n",
    "        df = pd.read_csv(self.file_name, chunksize=3000)\n",
    "        df = next(df)\n",
    "        df = df.fillna(\"\")\n",
    "        return df"
   ]
  },
  {
   "cell_type": "markdown",
   "id": "69109a95",
   "metadata": {},
   "source": [
    "### This class will help in tokenization of data"
   ]
  },
  {
   "cell_type": "code",
   "execution_count": 51,
   "id": "2125f39b",
   "metadata": {},
   "outputs": [],
   "source": [
    "# this class takes in our data tokennize it with the help of sentence transformer\n",
    "# and returns a numpy array vector embeddings and then flattens\n",
    "# the vector and return a numpy array with length of 384\n",
    "class Tokenizer(object):\n",
    "    def __init__(self):\n",
    "        self.model = SentenceTransformer('all-MiniLM-L6-v2')\n",
    "\n",
    "    def get_token(self, documents):\n",
    "        sentences  = [documents]\n",
    "        sentence_embeddings = self.model.encode(sentences)\n",
    "        _ = list(sentence_embeddings.flatten())\n",
    "        encod_np_array = np.array(_)\n",
    "        encod_list = encod_np_array.tolist()\n",
    "        return encod_list"
   ]
  },
  {
   "cell_type": "markdown",
   "id": "3fa086ed",
   "metadata": {},
   "source": [
    "### Setting up our Elasticsearch Client"
   ]
  },
  {
   "cell_type": "code",
   "execution_count": 52,
   "id": "cbf3cd5c",
   "metadata": {
    "scrolled": true
   },
   "outputs": [
    {
     "data": {
      "text/plain": [
       "ObjectApiResponse({'name': 'instance-0000000001', 'cluster_name': '7caa1d2d4f3a452d8ac72762a3987a0e', 'cluster_uuid': 'ikS0wj86SjOdoGrFzjtlIw', 'version': {'number': '8.8.0', 'build_flavor': 'default', 'build_type': 'docker', 'build_hash': 'c01029875a091076ed42cdb3a41c10b1a9a5a20f', 'build_date': '2023-05-23T17:16:07.179039820Z', 'build_snapshot': False, 'lucene_version': '9.6.0', 'minimum_wire_compatibility_version': '7.17.0', 'minimum_index_compatibility_version': '7.0.0'}, 'tagline': 'You Know, for Search'})"
      ]
     },
     "execution_count": 52,
     "metadata": {},
     "output_type": "execute_result"
    }
   ],
   "source": [
    " \n",
    "client = Elasticsearch(\n",
    "    cloud_id=elastic_test.CLOUD_ID,\n",
    "    basic_auth=(\"elastic\", elastic_test.ELASTIC_PASSWORD)\n",
    ")\n",
    "\n",
    "client.info()"
   ]
  },
  {
   "cell_type": "markdown",
   "id": "f65fb66b",
   "metadata": {},
   "source": [
    "### Creating Elasticsearch index with custom mappings"
   ]
  },
  {
   "cell_type": "code",
   "execution_count": 54,
   "id": "247fe694",
   "metadata": {},
   "outputs": [
    {
     "data": {
      "text/plain": [
       "ObjectApiResponse({'acknowledged': True, 'shards_acknowledged': True, 'index': 'arkansascaselogs2'})"
      ]
     },
     "execution_count": 54,
     "metadata": {},
     "output_type": "execute_result"
    }
   ],
   "source": [
    "# this will help in creating our index on our client and the our data\n",
    "# will be stored in database according to this mapping only\n",
    "config = {\n",
    "    \"mappings\": {\n",
    "        \"properties\": {\n",
    "            \"text\": {\"type\": \"text\"},\n",
    "            \"embeddings\": {\n",
    "                    \"type\": \"dense_vector\",\n",
    "                    \"dims\": 384,\n",
    "                    \"index\": True,\n",
    "                    \"similarity\":\"cosine\",\n",
    "                    \"index_options\": {\n",
    "                          \"type\": \"hnsw\",\n",
    "                          \"m\": 32,\n",
    "                          \"ef_construction\": 100\n",
    "                    }\n",
    "                \n",
    "                }\n",
    "            }\n",
    "    },\n",
    "    \"settings\": {\n",
    "        \"number_of_shards\": 2,\n",
    "        \"number_of_replicas\": 1\n",
    "    }\n",
    "}\n",
    "\n",
    "\n",
    "\n",
    "client.indices.create(\n",
    "        index=\"arkansascaselogs2\",\n",
    "        settings = config[\"settings\"],\n",
    "        mappings = config[\"mappings\"]\n",
    ")"
   ]
  },
  {
   "cell_type": "markdown",
   "id": "e7b1bdea",
   "metadata": {},
   "source": [
    "### Loading in our csv with the help of Helper class"
   ]
  },
  {
   "cell_type": "code",
   "execution_count": 55,
   "id": "6a7bf32c",
   "metadata": {},
   "outputs": [],
   "source": [
    "# this csv contains combined caselogs and vector embeddings of those caselogs\n",
    "\n",
    "helper = Reader(file_name=r\"C:\\Users\\Pratham\\tokenized_caselogs.csv\")\n",
    "df = helper.run()"
   ]
  },
  {
   "cell_type": "code",
   "execution_count": 56,
   "id": "278268ad",
   "metadata": {},
   "outputs": [],
   "source": [
    "df.rename(columns = {'Unnamed: 0':'id'}, inplace = True)"
   ]
  },
  {
   "cell_type": "code",
   "execution_count": 57,
   "id": "2c871b72",
   "metadata": {
    "scrolled": true
   },
   "outputs": [
    {
     "data": {
      "text/plain": [
       "(3000, 3)"
      ]
     },
     "execution_count": 57,
     "metadata": {},
     "output_type": "execute_result"
    }
   ],
   "source": [
    "df.shape"
   ]
  },
  {
   "cell_type": "code",
   "execution_count": 58,
   "id": "3036fdf5",
   "metadata": {},
   "outputs": [
    {
     "data": {
      "text/html": [
       "<div>\n",
       "<style scoped>\n",
       "    .dataframe tbody tr th:only-of-type {\n",
       "        vertical-align: middle;\n",
       "    }\n",
       "\n",
       "    .dataframe tbody tr th {\n",
       "        vertical-align: top;\n",
       "    }\n",
       "\n",
       "    .dataframe thead th {\n",
       "        text-align: right;\n",
       "    }\n",
       "</style>\n",
       "<table border=\"1\" class=\"dataframe\">\n",
       "  <thead>\n",
       "    <tr style=\"text-align: right;\">\n",
       "      <th></th>\n",
       "      <th>id</th>\n",
       "      <th>Combined_caselog</th>\n",
       "      <th>Caselog_vectors</th>\n",
       "    </tr>\n",
       "  </thead>\n",
       "  <tbody>\n",
       "    <tr>\n",
       "      <th>0</th>\n",
       "      <td>0</td>\n",
       "      <td>Case ID: 11640036 Title of the case: fisher v....</td>\n",
       "      <td>[-0.08333617448806763, 0.003288048319518566, -...</td>\n",
       "    </tr>\n",
       "    <tr>\n",
       "      <th>1</th>\n",
       "      <td>1</td>\n",
       "      <td>Case ID: 11638634 Title of the case: fikes v. ...</td>\n",
       "      <td>[-0.051469676196575165, 0.15750525891780853, -...</td>\n",
       "    </tr>\n",
       "    <tr>\n",
       "      <th>2</th>\n",
       "      <td>2</td>\n",
       "      <td>Case ID: 11641817 Title of the case: fletcher ...</td>\n",
       "      <td>[0.002264400478452444, 0.04330931976437569, -0...</td>\n",
       "    </tr>\n",
       "    <tr>\n",
       "      <th>3</th>\n",
       "      <td>3</td>\n",
       "      <td>Case ID: 243503 Title of the case: michael nor...</td>\n",
       "      <td>[-0.07217243313789368, 0.04474251717329025, -0...</td>\n",
       "    </tr>\n",
       "    <tr>\n",
       "      <th>4</th>\n",
       "      <td>4</td>\n",
       "      <td>Case ID: 243557 Title of the case: roger allen...</td>\n",
       "      <td>[-0.012044079601764679, 0.06460518389940262, -...</td>\n",
       "    </tr>\n",
       "    <tr>\n",
       "      <th>5</th>\n",
       "      <td>5</td>\n",
       "      <td>Case ID: 243402 Title of the case: joe louis d...</td>\n",
       "      <td>[-0.04602688178420067, 0.06391077488660812, -0...</td>\n",
       "    </tr>\n",
       "    <tr>\n",
       "      <th>6</th>\n",
       "      <td>6</td>\n",
       "      <td>Case ID: 243536 Title of the case: david mcgre...</td>\n",
       "      <td>[-0.05042765662074089, 0.06301756203174591, -0...</td>\n",
       "    </tr>\n",
       "    <tr>\n",
       "      <th>7</th>\n",
       "      <td>7</td>\n",
       "      <td>Case ID: 243418 Title of the case: st. paul fi...</td>\n",
       "      <td>[-0.04300766438245773, 0.10811009258031845, -0...</td>\n",
       "    </tr>\n",
       "    <tr>\n",
       "      <th>8</th>\n",
       "      <td>8</td>\n",
       "      <td>Case ID: 243398 Title of the case: sylvester r...</td>\n",
       "      <td>[-0.058369215577840805, 0.06306301802396774, -...</td>\n",
       "    </tr>\n",
       "    <tr>\n",
       "      <th>9</th>\n",
       "      <td>9</td>\n",
       "      <td>Case ID: 243483 Title of the case: patricia os...</td>\n",
       "      <td>[-0.04090781509876251, 0.09158284962177277, -0...</td>\n",
       "    </tr>\n",
       "  </tbody>\n",
       "</table>\n",
       "</div>"
      ],
      "text/plain": [
       "   id                                   Combined_caselog  \\\n",
       "0   0  Case ID: 11640036 Title of the case: fisher v....   \n",
       "1   1  Case ID: 11638634 Title of the case: fikes v. ...   \n",
       "2   2  Case ID: 11641817 Title of the case: fletcher ...   \n",
       "3   3  Case ID: 243503 Title of the case: michael nor...   \n",
       "4   4  Case ID: 243557 Title of the case: roger allen...   \n",
       "5   5  Case ID: 243402 Title of the case: joe louis d...   \n",
       "6   6  Case ID: 243536 Title of the case: david mcgre...   \n",
       "7   7  Case ID: 243418 Title of the case: st. paul fi...   \n",
       "8   8  Case ID: 243398 Title of the case: sylvester r...   \n",
       "9   9  Case ID: 243483 Title of the case: patricia os...   \n",
       "\n",
       "                                     Caselog_vectors  \n",
       "0  [-0.08333617448806763, 0.003288048319518566, -...  \n",
       "1  [-0.051469676196575165, 0.15750525891780853, -...  \n",
       "2  [0.002264400478452444, 0.04330931976437569, -0...  \n",
       "3  [-0.07217243313789368, 0.04474251717329025, -0...  \n",
       "4  [-0.012044079601764679, 0.06460518389940262, -...  \n",
       "5  [-0.04602688178420067, 0.06391077488660812, -0...  \n",
       "6  [-0.05042765662074089, 0.06301756203174591, -0...  \n",
       "7  [-0.04300766438245773, 0.10811009258031845, -0...  \n",
       "8  [-0.058369215577840805, 0.06306301802396774, -...  \n",
       "9  [-0.04090781509876251, 0.09158284962177277, -0...  "
      ]
     },
     "execution_count": 58,
     "metadata": {},
     "output_type": "execute_result"
    }
   ],
   "source": [
    "df.head(10)"
   ]
  },
  {
   "cell_type": "markdown",
   "id": "3f60eb17",
   "metadata": {},
   "source": [
    "#### Converting caselog vectors back to list type"
   ]
  },
  {
   "cell_type": "code",
   "execution_count": 59,
   "id": "fd381c91",
   "metadata": {},
   "outputs": [
    {
     "name": "stderr",
     "output_type": "stream",
     "text": [
      "C:\\Users\\Pratham\\AppData\\Local\\Temp\\ipykernel_33720\\3496530110.py:3: SettingWithCopyWarning: \n",
      "A value is trying to be set on a copy of a slice from a DataFrame\n",
      "\n",
      "See the caveats in the documentation: https://pandas.pydata.org/pandas-docs/stable/user_guide/indexing.html#returning-a-view-versus-a-copy\n",
      "  df[\"Caselog_vectors\"][i]=list(map(float,df[\"Caselog_vectors\"][i][1:-1].split(\", \")))\n"
     ]
    }
   ],
   "source": [
    "for i in range(len(df)):\n",
    "    \n",
    "    df[\"Caselog_vectors\"][i]=list(map(float,df[\"Caselog_vectors\"][i][1:-1].split(\", \")))"
   ]
  },
  {
   "cell_type": "code",
   "execution_count": 60,
   "id": "8c01efc8",
   "metadata": {},
   "outputs": [
    {
     "data": {
      "text/plain": [
       "list"
      ]
     },
     "execution_count": 60,
     "metadata": {},
     "output_type": "execute_result"
    }
   ],
   "source": [
    "type(df['Caselog_vectors'][0])"
   ]
  },
  {
   "cell_type": "markdown",
   "id": "0f9ef772",
   "metadata": {},
   "source": [
    "### Now we'll push our data to the index we made earlier"
   ]
  },
  {
   "cell_type": "code",
   "execution_count": 61,
   "id": "dbaf39ee",
   "metadata": {},
   "outputs": [],
   "source": [
    "## converting df to dictionary\n",
    "caselog_dict = df.to_dict(\"records\")\n"
   ]
  },
  {
   "cell_type": "code",
   "execution_count": 62,
   "id": "583bd047",
   "metadata": {},
   "outputs": [
    {
     "data": {
      "text/plain": [
       "list"
      ]
     },
     "execution_count": 62,
     "metadata": {},
     "output_type": "execute_result"
    }
   ],
   "source": [
    "type(caselog_dict[0]['Caselog_vectors'])"
   ]
  },
  {
   "cell_type": "code",
   "execution_count": 67,
   "id": "cb10b34b",
   "metadata": {},
   "outputs": [
    {
     "data": {
      "text/plain": [
       "{'id': 0,\n",
       " 'Combined_caselog': \"Case ID: 11640036 Title of the case: fisher v. reider Docket Number: Case No. 4,822a Case URL: https://api.capapi.org/v1/cases/11640036/ Date of decision: 1829-11 Citation of the case: '9 F. Cas. 137' Name of the court: Superior Court of the Territory of Arkansas Court ID: 9132 Case Author: None Name of Judges: Before JOHNSON, ESKRIDGE, BATES, and TRIMBLE, Judges. Name of the Attorneys: \",\n",
       " 'Caselog_vectors': [-0.08333617448806763,\n",
       "  0.003288048319518566,\n",
       "  -0.045671965926885605,\n",
       "  -0.03435898944735527,\n",
       "  -0.005166919901967049,\n",
       "  -0.007628907915204763,\n",
       "  -0.028674382716417313,\n",
       "  0.018058855086565018,\n",
       "  0.029897673055529594,\n",
       "  0.05648696422576904,\n",
       "  0.036302629858255386,\n",
       "  -0.037146586924791336,\n",
       "  -0.05684299394488335,\n",
       "  -0.012270716018974781,\n",
       "  -0.021484481170773506,\n",
       "  0.030118469148874283,\n",
       "  -0.003232513554394245,\n",
       "  0.024529362097382545,\n",
       "  0.030872253701090813,\n",
       "  0.018711017444729805,\n",
       "  -0.06671999394893646,\n",
       "  0.1359708607196808,\n",
       "  0.021005354821681976,\n",
       "  -0.08553546667098999,\n",
       "  0.01975468173623085,\n",
       "  0.0011204315815120935,\n",
       "  0.02025895193219185,\n",
       "  -0.039023421704769135,\n",
       "  0.011275005526840687,\n",
       "  -0.09336921572685242,\n",
       "  0.03640874847769737,\n",
       "  -0.048006653785705566,\n",
       "  0.028087468817830086,\n",
       "  -0.02022770792245865,\n",
       "  0.05791495367884636,\n",
       "  -0.003238178323954344,\n",
       "  -0.03496785834431648,\n",
       "  0.02814260683953762,\n",
       "  0.08724133670330048,\n",
       "  0.0346243754029274,\n",
       "  0.012109853327274323,\n",
       "  -0.041501276195049286,\n",
       "  0.04085978493094444,\n",
       "  -0.07700658589601517,\n",
       "  -0.07559280097484589,\n",
       "  -0.005888744257390499,\n",
       "  -0.04150596633553505,\n",
       "  0.013874859549105167,\n",
       "  0.026630880311131477,\n",
       "  0.04238566756248474,\n",
       "  0.010839284397661686,\n",
       "  -0.02187705971300602,\n",
       "  -0.026261813938617706,\n",
       "  -0.02702520042657852,\n",
       "  -0.007733254227787256,\n",
       "  0.01643897034227848,\n",
       "  0.0325256772339344,\n",
       "  0.05698681250214577,\n",
       "  -0.016891824081540108,\n",
       "  0.02458786778151989,\n",
       "  0.04027291014790535,\n",
       "  -0.012482033111155033,\n",
       "  0.023221660405397415,\n",
       "  -0.008324975147843361,\n",
       "  0.006628212984651327,\n",
       "  0.032569240778684616,\n",
       "  0.0911511555314064,\n",
       "  -0.0907086730003357,\n",
       "  -0.0015015050303190947,\n",
       "  -0.08155257254838943,\n",
       "  0.10583499073982239,\n",
       "  0.1109737977385521,\n",
       "  0.014124678447842598,\n",
       "  -0.0763011947274208,\n",
       "  -0.07942861318588257,\n",
       "  0.031129783019423485,\n",
       "  0.048836201429367065,\n",
       "  0.03644184023141861,\n",
       "  0.10755474120378494,\n",
       "  0.09129691123962402,\n",
       "  -0.0368400476872921,\n",
       "  -0.08403320610523224,\n",
       "  -0.03728315606713295,\n",
       "  -0.03964366018772125,\n",
       "  -0.06765709072351456,\n",
       "  -0.025451594963669777,\n",
       "  -0.010616147890686989,\n",
       "  -0.02284531481564045,\n",
       "  0.02401655912399292,\n",
       "  -0.07320988923311234,\n",
       "  -0.004011319950222969,\n",
       "  -0.05025656893849373,\n",
       "  0.018145356327295303,\n",
       "  -0.05792032927274704,\n",
       "  0.01697368361055851,\n",
       "  0.01439274288713932,\n",
       "  -0.03176720440387726,\n",
       "  0.044692158699035645,\n",
       "  0.06474035978317261,\n",
       "  0.030844129621982574,\n",
       "  -0.001243903418071568,\n",
       "  -0.003660939633846283,\n",
       "  -0.056837454438209534,\n",
       "  -0.01849333569407463,\n",
       "  0.04997381940484047,\n",
       "  -0.012296346016228199,\n",
       "  3.338430178700946e-05,\n",
       "  0.007440357003360987,\n",
       "  -0.018852509558200836,\n",
       "  -0.013163520023226738,\n",
       "  0.06016797944903374,\n",
       "  0.03252371773123741,\n",
       "  0.0255683995783329,\n",
       "  0.057775769382715225,\n",
       "  0.006887474562972784,\n",
       "  0.032612528651952744,\n",
       "  0.02190624363720417,\n",
       "  0.0469164215028286,\n",
       "  0.055822573602199554,\n",
       "  -0.02529701590538025,\n",
       "  -0.040695417672395706,\n",
       "  -0.00034831746597774327,\n",
       "  0.006178868003189564,\n",
       "  -0.024175085127353668,\n",
       "  -0.02418706938624382,\n",
       "  0.01443440467119217,\n",
       "  -0.0059450482949614525,\n",
       "  2.3670663419569545e-33,\n",
       "  0.026465369388461113,\n",
       "  -0.03247930854558945,\n",
       "  0.004846023395657539,\n",
       "  -0.08357729017734528,\n",
       "  0.17098072171211243,\n",
       "  -0.018957212567329407,\n",
       "  -0.008596961386501789,\n",
       "  -0.03446616232395172,\n",
       "  -0.05170847848057747,\n",
       "  0.018116576597094536,\n",
       "  -0.030934585258364677,\n",
       "  -0.04333709552884102,\n",
       "  0.04882980138063431,\n",
       "  -0.07964179664850235,\n",
       "  -0.07050997763872147,\n",
       "  0.02079750970005989,\n",
       "  -0.04510493949055672,\n",
       "  0.04496061056852341,\n",
       "  -0.0947980284690857,\n",
       "  -0.12172328680753708,\n",
       "  0.04757283627986908,\n",
       "  0.011117074638605118,\n",
       "  0.019491098821163177,\n",
       "  0.09464729577302933,\n",
       "  -0.10748330503702164,\n",
       "  0.016361115500330925,\n",
       "  0.014289931394159794,\n",
       "  -0.009985740296542645,\n",
       "  0.029894398525357246,\n",
       "  0.00022676122898701578,\n",
       "  0.051530949771404266,\n",
       "  -0.04041065648198128,\n",
       "  -0.012399118393659592,\n",
       "  0.022717995569109917,\n",
       "  0.09670114517211914,\n",
       "  0.02092389576137066,\n",
       "  0.022079242393374443,\n",
       "  0.042706314474344254,\n",
       "  0.01381080225110054,\n",
       "  0.06626047194004059,\n",
       "  -0.02667859010398388,\n",
       "  0.024786392226815224,\n",
       "  -0.02149580605328083,\n",
       "  -0.015972603112459183,\n",
       "  -0.05261031910777092,\n",
       "  -0.12593863904476166,\n",
       "  0.019091352820396423,\n",
       "  -0.009195989929139614,\n",
       "  0.014908608980476856,\n",
       "  0.05730145052075386,\n",
       "  -0.07319217175245285,\n",
       "  -0.01990681327879429,\n",
       "  -0.018036847934126854,\n",
       "  -0.04446002468466759,\n",
       "  -0.013056461699306965,\n",
       "  -0.08770256489515305,\n",
       "  -0.08050559461116791,\n",
       "  0.05660407617688179,\n",
       "  0.011033209040760994,\n",
       "  0.03799715265631676,\n",
       "  0.009316609241068363,\n",
       "  0.07197127491235733,\n",
       "  0.0020609619095921516,\n",
       "  -0.06251194328069687,\n",
       "  -0.056871797889471054,\n",
       "  -0.01866462267935276,\n",
       "  0.06067908555269241,\n",
       "  -0.09497518837451935,\n",
       "  0.034936267882585526,\n",
       "  -0.05916200205683708,\n",
       "  0.07380247861146927,\n",
       "  -0.0021515395492315292,\n",
       "  0.0638246163725853,\n",
       "  -0.03721481189131737,\n",
       "  -0.025671346113085747,\n",
       "  -0.03436798229813576,\n",
       "  0.04881853237748146,\n",
       "  0.010510344989597797,\n",
       "  0.0036621904000639915,\n",
       "  -0.06900075078010559,\n",
       "  -0.047191835939884186,\n",
       "  0.07526566088199615,\n",
       "  0.039764873683452606,\n",
       "  0.004351543262600899,\n",
       "  -0.009805906563997269,\n",
       "  -0.10779016464948654,\n",
       "  -0.12132970243692398,\n",
       "  -0.06789372861385345,\n",
       "  0.006143246777355671,\n",
       "  -0.033531539142131805,\n",
       "  0.014101679436862469,\n",
       "  0.07728833705186844,\n",
       "  -0.10974427312612534,\n",
       "  -0.04037933424115181,\n",
       "  0.08033791929483414,\n",
       "  -3.583580119164163e-33,\n",
       "  -0.017502132803201675,\n",
       "  -0.021523943170905113,\n",
       "  -0.051494669169187546,\n",
       "  -0.029095172882080078,\n",
       "  -0.06315973401069641,\n",
       "  -0.1039663776755333,\n",
       "  0.02951352670788765,\n",
       "  0.04713449627161026,\n",
       "  -0.028561534360051155,\n",
       "  -0.14192798733711243,\n",
       "  -0.07315052300691605,\n",
       "  0.07346531003713608,\n",
       "  -0.018505189567804337,\n",
       "  0.06625670194625854,\n",
       "  -0.04445965215563774,\n",
       "  0.08099722117185593,\n",
       "  -0.0036097427364438772,\n",
       "  -0.010784158483147621,\n",
       "  -0.040508657693862915,\n",
       "  -0.03115352988243103,\n",
       "  0.12084085494279861,\n",
       "  0.0214694794267416,\n",
       "  0.02017643116414547,\n",
       "  0.0060305423103272915,\n",
       "  0.023983033373951912,\n",
       "  -0.03256288170814514,\n",
       "  0.003008218016475439,\n",
       "  -0.09512050449848175,\n",
       "  0.03991154581308365,\n",
       "  0.008828019723296165,\n",
       "  0.025838414207100868,\n",
       "  -0.037732500582933426,\n",
       "  -0.007245072163641453,\n",
       "  0.07024535536766052,\n",
       "  -0.07199983298778534,\n",
       "  -0.10268831253051758,\n",
       "  0.17436203360557556,\n",
       "  0.009137045592069626,\n",
       "  -0.025936763733625412,\n",
       "  -0.027055349200963974,\n",
       "  0.05160756781697273,\n",
       "  -0.007280727382749319,\n",
       "  0.031737688928842545,\n",
       "  0.0045186239294707775,\n",
       "  -0.0030459598638117313,\n",
       "  -0.06239215284585953,\n",
       "  -0.013058727607131004,\n",
       "  0.038296908140182495,\n",
       "  0.03725014254450798,\n",
       "  0.0004668325709644705,\n",
       "  -0.04211515560746193,\n",
       "  -0.028755100443959236,\n",
       "  0.05556979775428772,\n",
       "  0.044765785336494446,\n",
       "  0.02745736949145794,\n",
       "  -0.018284142017364502,\n",
       "  0.013100246898829937,\n",
       "  -0.004345394670963287,\n",
       "  -0.05437219515442848,\n",
       "  0.009425170719623566,\n",
       "  0.029894601553678513,\n",
       "  0.040980659425258636,\n",
       "  -0.04130517318844795,\n",
       "  0.059473730623722076,\n",
       "  0.09580250829458237,\n",
       "  0.08548472076654434,\n",
       "  -0.08872969448566437,\n",
       "  -0.09781698137521744,\n",
       "  -0.012169505469501019,\n",
       "  -0.04916490614414215,\n",
       "  -0.0008800085633993149,\n",
       "  -0.1311214566230774,\n",
       "  0.0026083767879754305,\n",
       "  -0.04284829646348953,\n",
       "  0.05692695081233978,\n",
       "  0.13130643963813782,\n",
       "  -0.01757529191672802,\n",
       "  0.048705093562603,\n",
       "  -0.04633425176143646,\n",
       "  0.018375832587480545,\n",
       "  -0.013045267201960087,\n",
       "  -0.05298628658056259,\n",
       "  -0.044523946940898895,\n",
       "  0.027491969987750053,\n",
       "  -0.031373195350170135,\n",
       "  0.11820743978023529,\n",
       "  0.11895138025283813,\n",
       "  -0.03460757061839104,\n",
       "  0.031312502920627594,\n",
       "  -0.029559960588812828,\n",
       "  -0.043578047305345535,\n",
       "  -0.08197616785764694,\n",
       "  0.025937270373106003,\n",
       "  0.08158872276544571,\n",
       "  -0.004957794211804867,\n",
       "  -4.6051479074549206e-08,\n",
       "  0.0164544228464365,\n",
       "  0.02808765135705471,\n",
       "  -0.07361134886741638,\n",
       "  0.06150607392191887,\n",
       "  0.009655332192778587,\n",
       "  0.06389710307121277,\n",
       "  0.023335356265306473,\n",
       "  -0.005374806001782417,\n",
       "  -0.052048902958631516,\n",
       "  0.04722719267010689,\n",
       "  -0.045881420373916626,\n",
       "  0.02139994315803051,\n",
       "  -0.014928707852959633,\n",
       "  0.046658389270305634,\n",
       "  0.10021225363016129,\n",
       "  -0.026812873780727386,\n",
       "  0.0325443334877491,\n",
       "  0.022472325712442398,\n",
       "  -0.010827715508639812,\n",
       "  -0.03192189708352089,\n",
       "  -0.06121862679719925,\n",
       "  -0.029307087883353233,\n",
       "  0.053997013717889786,\n",
       "  -0.011710288003087044,\n",
       "  0.0016039639012888074,\n",
       "  0.011533566750586033,\n",
       "  0.006713021546602249,\n",
       "  0.019059643149375916,\n",
       "  -0.03566247969865799,\n",
       "  0.0006215766188688576,\n",
       "  -0.009391546249389648,\n",
       "  0.11792512238025665,\n",
       "  -0.02552533522248268,\n",
       "  -0.04167523607611656,\n",
       "  0.04858935624361038,\n",
       "  0.03790535405278206,\n",
       "  -0.019480857998132706,\n",
       "  0.06856970489025116,\n",
       "  -0.01633061096072197,\n",
       "  0.04426530376076698,\n",
       "  -0.037354063242673874,\n",
       "  0.023187169805169106,\n",
       "  0.016046304255723953,\n",
       "  0.015870215371251106,\n",
       "  0.03141671419143677,\n",
       "  0.0396023727953434,\n",
       "  0.020756954327225685,\n",
       "  0.02672758512198925,\n",
       "  0.023815572261810303,\n",
       "  -0.00043644983088597655,\n",
       "  -0.0058216857723891735,\n",
       "  -0.08542194962501526,\n",
       "  -0.017646076157689095,\n",
       "  0.015187093988060951,\n",
       "  -0.04170744866132736,\n",
       "  0.07174637913703918,\n",
       "  0.0797584131360054,\n",
       "  -0.03722153976559639,\n",
       "  0.0012341070687398314,\n",
       "  0.010938229970633984,\n",
       "  0.08917079865932465,\n",
       "  0.030386339873075485,\n",
       "  0.019387230277061462,\n",
       "  -0.00016964551468845457]}"
      ]
     },
     "execution_count": 67,
     "metadata": {},
     "output_type": "execute_result"
    }
   ],
   "source": [
    "caselog_dict[0]"
   ]
  },
  {
   "cell_type": "markdown",
   "id": "3bb40f60",
   "metadata": {},
   "source": [
    "### Pushing our data on to the created index"
   ]
  },
  {
   "cell_type": "code",
   "execution_count": 68,
   "id": "dfdfdbcc",
   "metadata": {},
   "outputs": [
    {
     "name": "stderr",
     "output_type": "stream",
     "text": [
      "C:\\Users\\Pratham\\AppData\\Local\\Temp\\ipykernel_33720\\128418486.py:6: DeprecationWarning: The 'body' parameter is deprecated and will be removed in a future version. Instead use the 'document' parameter. See https://github.com/elastic/elasticsearch-py/issues/1698 for more information\n",
      "  client.index(index=\"arkansascaselogs2\", id = case[\"id\"] , body = doc)\n"
     ]
    }
   ],
   "source": [
    "for case in caselog_dict:\n",
    "    doc = {\n",
    "        \"text\" : case['Combined_caselog'],\n",
    "        \"embeddings\" : case['Caselog_vectors']\n",
    "    }\n",
    "    client.index(index=\"arkansascaselogs2\", id = case[\"id\"] , body = doc)"
   ]
  },
  {
   "cell_type": "code",
   "execution_count": 69,
   "id": "29f5b96e",
   "metadata": {},
   "outputs": [
    {
     "data": {
      "text/plain": [
       "ObjectApiResponse({'count': 3000, '_shards': {'total': 2, 'successful': 2, 'skipped': 0, 'failed': 0}})"
      ]
     },
     "execution_count": 69,
     "metadata": {},
     "output_type": "execute_result"
    }
   ],
   "source": [
    "result = client.count(index=\"arkansascaselogs2\")\n",
    "\n",
    "#print the total number of documents in the index\n",
    "result"
   ]
  },
  {
   "cell_type": "markdown",
   "id": "ee401e71",
   "metadata": {},
   "source": [
    "### Creating our query for input"
   ]
  },
  {
   "cell_type": "code",
   "execution_count": 111,
   "id": "5a1f7737",
   "metadata": {},
   "outputs": [
    {
     "name": "stdout",
     "output_type": "stream",
     "text": [
      "Enter the Input Query case id\n",
      "max_score: 0.731353\n",
      "Document ID: 2445\n",
      "Document ID: 866\n",
      "Document ID: 534\n",
      "Document ID: 933\n",
      "Document ID: 554\n"
     ]
    },
    {
     "name": "stderr",
     "output_type": "stream",
     "text": [
      "C:\\Users\\Pratham\\AppData\\Local\\Temp\\ipykernel_33720\\221584834.py:37: ElasticsearchWarning: The kNN search API has been replaced by the `knn` option in the search API.\n",
      "  search_result2 = client.knn_search(index = \"arkansascaselogs2\", knn=query_dict)\n"
     ]
    }
   ],
   "source": [
    "## this code will take in user query convert it in vector embeddings using Tokenizer class above\n",
    "helper_token = Tokenizer()\n",
    "INPUT = input(\"Enter the Input Query \")\n",
    "token_vector = helper_token.get_token(INPUT)\n",
    "\n",
    "# checking for integers in our input\n",
    "all_int = False\n",
    "for i in INPUT:\n",
    "    if i in list(map(str,(list(range(10))))):\n",
    "        all_int = True\n",
    "\n",
    "# Creating our query dict\n",
    "# if our input contains numerical values like ids then we go for normal math query\n",
    "if all_int:\n",
    "    print('loop')\n",
    "    query = {\n",
    "        \"query\": {\n",
    "            \"match\": {\n",
    "                \"text\": {\n",
    "                \"query\": INPUT,\n",
    "\n",
    "                }\n",
    "            }\n",
    "        }\n",
    "    }\n",
    "    search_result1 = client.search(index=\"arkansascaselogs2\", body=query)\n",
    "    print(search_result1,\"search_result_1\")\n",
    "\n",
    "query_dict = {\n",
    "        \"field\": \"embeddings\",\n",
    "        \"query_vector\": token_vector,\n",
    "        \"k\": 5,\n",
    "        \"num_candidates\": 5,\n",
    "    }\n",
    "\n",
    "\n",
    "search_result2 = client.knn_search(index = \"arkansascaselogs2\", knn=query_dict)\n",
    "\n",
    "## this will return out top 5 index no. of our search_results with the max_score of the top match\n",
    "\n",
    "print(f\"max_score: {search_result2['hits']['max_score']}\")\n",
    "#adding ids to the list to get all the information of those ids form the dataset\n",
    "id_list=[]\n",
    "for hit in search_result2[\"hits\"][\"hits\"]:\n",
    "        \n",
    "        print(f\"Document ID: {hit['_id']}\")\n",
    "        id_list.append(hit['_id'])\n",
    "        \n"
   ]
  },
  {
   "cell_type": "markdown",
   "id": "84c93c61",
   "metadata": {},
   "source": [
    "### Extracting the remaining information of the output IDs from bigger dataset"
   ]
  },
  {
   "cell_type": "code",
   "execution_count": 105,
   "id": "8d5f9c45",
   "metadata": {},
   "outputs": [],
   "source": [
    "df_new = pd.read_csv(r\"C:\\Users\\Pratham\\arkansas_new.csv\")"
   ]
  },
  {
   "cell_type": "code",
   "execution_count": 108,
   "id": "3026a1a4",
   "metadata": {},
   "outputs": [],
   "source": [
    "df_new[\"id\"] = (list(range(59718)))"
   ]
  },
  {
   "cell_type": "code",
   "execution_count": 109,
   "id": "17e0c2c7",
   "metadata": {},
   "outputs": [],
   "source": [
    "df_new.set_index(\"id\", inplace = True)"
   ]
  },
  {
   "cell_type": "code",
   "execution_count": 115,
   "id": "a4704b92",
   "metadata": {},
   "outputs": [],
   "source": [
    "df_new = df_new.drop(['Caselog_vectors'], axis=\"columns\")"
   ]
  },
  {
   "cell_type": "code",
   "execution_count": 116,
   "id": "fa548add",
   "metadata": {},
   "outputs": [
    {
     "name": "stdout",
     "output_type": "stream",
     "text": [
      "['2445', '866', '534', '933', '554']\n"
     ]
    }
   ],
   "source": [
    "print(id_list)"
   ]
  },
  {
   "cell_type": "code",
   "execution_count": 117,
   "id": "3aabb575",
   "metadata": {},
   "outputs": [
    {
     "name": "stdout",
     "output_type": "stream",
     "text": [
      "Case_ID                                                          236513\n",
      "url                             https://api.capapi.org/v1/cases/236513/\n",
      "name                                                Ex parte John Smith\n",
      "decision_date                                                   1832-07\n",
      "docket_number                                                       NaN\n",
      "Party A                                                             NaN\n",
      "Party B                                                             NaN\n",
      "Civil Cases                                              Ex parte Smith\n",
      "Citation                                      ['1 Ark. Terr. Rep. 201']\n",
      "Volume_url            https://api.capapi.org/v1/volumes/32044078438371/\n",
      "Volume Number                                                         1\n",
      "Reporter_full_name    Reports of Cases Argued and Determined in the ...\n",
      "Reporter_id                                                         677\n",
      "Court_name                  Superior Court of the Territory of Arkansas\n",
      "Court_id                                                           9132\n",
      "Case_type                                                  ['majority']\n",
      "Case_author                                                      [None]\n",
      "Judges                                                              NaN\n",
      "Attorneys                                                           NaN\n",
      "Combined_caselogs     Case ID: 236513 Title of the case: ex parte jo...\n",
      "Name: 2445, dtype: object\n",
      "Case_ID                                                          243538\n",
      "url                             https://api.capapi.org/v1/cases/243538/\n",
      "name                              IN RE: CLIENT SECURITY FUND COMMITTEE\n",
      "decision_date                                                1999-06-24\n",
      "docket_number                                                       NaN\n",
      "Party A                                                             NaN\n",
      "Party B                                                             NaN\n",
      "Civil Cases                        In re Client Security Fund Committee\n",
      "Citation                                               ['338 Ark. 834']\n",
      "Volume_url            https://api.capapi.org/v1/volumes/32044056714496/\n",
      "Volume Number                                                       338\n",
      "Reporter_full_name                                     Arkansas Reports\n",
      "Reporter_id                                                         368\n",
      "Court_name                                       Arkansas Supreme Court\n",
      "Court_id                                                           8808\n",
      "Case_type                                                  ['majority']\n",
      "Case_author                                             ['Per Curiam.']\n",
      "Judges                                                              NaN\n",
      "Attorneys                                                           NaN\n",
      "Combined_caselogs     Case ID: 243538 Title of the case: in re: clie...\n",
      "Name: 866, dtype: object\n",
      "Case_ID                                                          243579\n",
      "url                             https://api.capapi.org/v1/cases/243579/\n",
      "name                              IN RE: CLIENT SECURITY FUND COMMITTEE\n",
      "decision_date                                                1999-09-23\n",
      "docket_number                                                       NaN\n",
      "Party A                                                             NaN\n",
      "Party B                                                             NaN\n",
      "Civil Cases                        In re Client Security Fund Committee\n",
      "Citation                                               ['338 Ark. 835']\n",
      "Volume_url            https://api.capapi.org/v1/volumes/32044056714496/\n",
      "Volume Number                                                       338\n",
      "Reporter_full_name                                     Arkansas Reports\n",
      "Reporter_id                                                         368\n",
      "Court_name                                       Arkansas Supreme Court\n",
      "Court_id                                                           8808\n",
      "Case_type                                                  ['majority']\n",
      "Case_author                                             ['Per Curiam.']\n",
      "Judges                                                              NaN\n",
      "Attorneys                                                           NaN\n",
      "Combined_caselogs     Case ID: 243579 Title of the case: in re: clie...\n",
      "Name: 534, dtype: object\n",
      "Case_ID                                                         8726725\n",
      "url                            https://api.capapi.org/v1/cases/8726725/\n",
      "name                     Biscoe et al. vs. Madden as ad.; Same vs. Same\n",
      "decision_date                                                   1856-01\n",
      "docket_number                                                       NaN\n",
      "Party A                                                          Biscoe\n",
      "Party B                                                          Madden\n",
      "Civil Cases                                                         NaN\n",
      "Citation                                                ['17 Ark. 546']\n",
      "Volume_url            https://api.capapi.org/v1/volumes/32044078573938/\n",
      "Volume Number                                                        17\n",
      "Reporter_full_name                                     Arkansas Reports\n",
      "Reporter_id                                                         368\n",
      "Court_name                                       Arkansas Supreme Court\n",
      "Court_id                                                           8808\n",
      "Case_type                                                  ['majority']\n",
      "Case_author                                                      [None]\n",
      "Judges                                                              NaN\n",
      "Attorneys                                                           NaN\n",
      "Combined_caselogs     Case ID: 8726725 Title of the case: biscoe et ...\n",
      "Name: 933, dtype: object\n",
      "Case_ID                                                          243501\n",
      "url                             https://api.capapi.org/v1/cases/243501/\n",
      "name                  IN RE: David Marion CLARK, Arkansas Bar ID #79034\n",
      "decision_date                                                1999-09-16\n",
      "docket_number                                                       NaN\n",
      "Party A                                                             NaN\n",
      "Party B                                                             NaN\n",
      "Civil Cases                                                 In re Clark\n",
      "Citation                                               ['338 Ark. 837']\n",
      "Volume_url            https://api.capapi.org/v1/volumes/32044056714496/\n",
      "Volume Number                                                       338\n",
      "Reporter_full_name                                     Arkansas Reports\n",
      "Reporter_id                                                         368\n",
      "Court_name                                       Arkansas Supreme Court\n",
      "Court_id                                                           8808\n",
      "Case_type                                                  ['majority']\n",
      "Case_author                                             ['Per Curiam.']\n",
      "Judges                                                              NaN\n",
      "Attorneys                                                           NaN\n",
      "Combined_caselogs     Case ID: 243501 Title of the case: in re: davi...\n",
      "Name: 554, dtype: object\n"
     ]
    }
   ],
   "source": [
    "for i in id_list:\n",
    "    print(df_new.iloc[int(i)])"
   ]
  },
  {
   "cell_type": "code",
   "execution_count": 119,
   "id": "8e225677",
   "metadata": {},
   "outputs": [],
   "source": [
    "df_new.to_csv(\"arkansas_whole_data.csv\",index=False)"
   ]
  },
  {
   "cell_type": "code",
   "execution_count": null,
   "id": "f70a9f50",
   "metadata": {},
   "outputs": [],
   "source": []
  }
 ],
 "metadata": {
  "kernelspec": {
   "display_name": "Python 3 (ipykernel)",
   "language": "python",
   "name": "python3"
  },
  "language_info": {
   "codemirror_mode": {
    "name": "ipython",
    "version": 3
   },
   "file_extension": ".py",
   "mimetype": "text/x-python",
   "name": "python",
   "nbconvert_exporter": "python",
   "pygments_lexer": "ipython3",
   "version": "3.10.4"
  }
 },
 "nbformat": 4,
 "nbformat_minor": 5
}
